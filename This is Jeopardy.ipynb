{
 "cells": [
  {
   "cell_type": "markdown",
   "metadata": {},
   "source": [
    "# This is Jeopardy!"
   ]
  },
  {
   "cell_type": "markdown",
   "metadata": {},
   "source": [
    "#### Overview"
   ]
  },
  {
   "cell_type": "markdown",
   "metadata": {},
   "source": [
    "This project is slightly different than others you have encountered thus far. Instead of a step-by-step tutorial, this project contains a series of open-ended requirements which describe the project you'll be building. There are many possible ways to correctly fulfill all of these requirements, and you should expect to use the internet, Codecademy, and/or other resources when you encounter a problem that you cannot easily solve."
   ]
  },
  {
   "cell_type": "markdown",
   "metadata": {},
   "source": [
    "#### Project Goals"
   ]
  },
  {
   "cell_type": "markdown",
   "metadata": {},
   "source": [
    "You will work to write several functions that investigate a dataset of _Jeopardy!_ questions and answers. Filter the dataset for topics that you're interested in, compute the average difficulty of those questions, and train to become the next Jeopardy champion!"
   ]
  },
  {
   "cell_type": "markdown",
   "metadata": {},
   "source": [
    "## Prerequisites"
   ]
  },
  {
   "cell_type": "markdown",
   "metadata": {},
   "source": [
    "In order to complete this project, you should have completed the Pandas lessons in the <a href=\"https://www.codecademy.com/learn/paths/analyze-data-with-python\">Analyze Data with Python Skill Path</a>. You can also find those lessons in the <a href=\"https://www.codecademy.com/learn/data-processing-pandas\">Data Analysis with Pandas course</a> or the <a href=\"https://www.codecademy.com/learn/paths/data-science/\">Data Scientist Career Path</a>.\n",
    "\n",
    "Finally, the <a href=\"https://www.codecademy.com/learn/practical-data-cleaning\">Practical Data Cleaning</a> course may also be helpful."
   ]
  },
  {
   "cell_type": "markdown",
   "metadata": {},
   "source": [
    "## Project Requirements"
   ]
  },
  {
   "cell_type": "markdown",
   "metadata": {},
   "source": [
    "1. We've provided a csv file containing data about the game show _Jeopardy!_ in a file named `jeopardy.csv`. Load the data into a DataFrame and investigate its contents. Try to print out specific columns.\n",
    "\n",
    "   Note that in order to make this project as \"real-world\" as possible, we haven't modified the data at all - we're giving it to you exactly how we found it. As a result, this data isn't as \"clean\" as the datasets you normally find on Codecademy. More specifically, there's something odd about the column names. After you figure out the problem with the column names, you may want to rename them to make your life easier for the rest of the project.\n",
    "   \n",
    "   In order to display the full contents of a column, we've added this line of code for you:\n",
    "   \n",
    "   ```py\n",
    "   pd.set_option('display.max_colwidth', None)\n",
    "   ```"
   ]
  },
  {
   "cell_type": "code",
   "execution_count": 314,
   "metadata": {},
   "outputs": [
    {
     "name": "stdout",
     "output_type": "stream",
     "text": [
      "<class 'pandas.core.frame.DataFrame'>\n",
      "Index: 216928 entries, 0 to 216929\n",
      "Data columns (total 7 columns):\n",
      " #   Column       Non-Null Count   Dtype \n",
      "---  ------       --------------   ----- \n",
      " 0   Show_number  216928 non-null  int64 \n",
      " 1   Air_date     216928 non-null  object\n",
      " 2   Round        216928 non-null  object\n",
      " 3   Category     216928 non-null  object\n",
      " 4   Value        216928 non-null  object\n",
      " 5   Question     216928 non-null  object\n",
      " 6   Answer       216928 non-null  object\n",
      "dtypes: int64(1), object(6)\n",
      "memory usage: 13.2+ MB\n"
     ]
    }
   ],
   "source": [
    "import pandas as pd\n",
    "pd.set_option('display.max_colwidth', None)\n",
    "pd.set_option(\"display.max_rows\", None)\n",
    "\n",
    "data = pd.read_csv(\"jeopardy.csv\")\n",
    "data.head() #looking at the first 5 rows of the data to see the columns.\n",
    "\n",
    "# data.info() #looking at the data types present in the table. It appears there are 2 questions which do not have answers.\n",
    "#it also appears the column names have additional white space infront.\n",
    "\n",
    "data.columns = data.columns.str.strip()\n",
    "\n",
    "# data.info() #confirming the columns names have had additional whitespace removed.\n",
    "\n",
    "data = data.rename(columns = {\"Air Date\": \"Air_date\", \"Show Number\":\"Show_number\"}) #renaming air date and show number columns using function methods.\n",
    "\n",
    "# data.info() confirming the rename has worked\n",
    "\n",
    "data = data.loc[data.Answer.notnull()] #cleaning the data to remove rows where an answer is not given.\n",
    "\n",
    "data.info() #confirming that the amount of not null data in each column is the same"
   ]
  },
  {
   "cell_type": "markdown",
   "metadata": {},
   "source": [
    "2. Write a function that filters the dataset for questions that contains all of the words in a list of words. For example, when the list `[\"King\", \"England\"]` was passed to our function, the function returned a DataFrame of 49 rows. Every row had the strings `\"King\"` and `\"England\"` somewhere in its `\" Question\"`.\n",
    "\n",
    "   Test your function by printing out the column containing the question of each row of the dataset."
   ]
  },
  {
   "cell_type": "code",
   "execution_count": 316,
   "metadata": {},
   "outputs": [
    {
     "name": "stdout",
     "output_type": "stream",
     "text": [
      "<class 'pandas.core.frame.DataFrame'>\n",
      "Index: 49 entries, 4953 to 200369\n",
      "Data columns (total 7 columns):\n",
      " #   Column       Non-Null Count  Dtype \n",
      "---  ------       --------------  ----- \n",
      " 0   Show_number  49 non-null     int64 \n",
      " 1   Air_date     49 non-null     object\n",
      " 2   Round        49 non-null     object\n",
      " 3   Category     49 non-null     object\n",
      " 4   Value        49 non-null     object\n",
      " 5   Question     49 non-null     object\n",
      " 6   Answer       49 non-null     object\n",
      "dtypes: int64(1), object(6)\n",
      "memory usage: 3.1+ KB\n"
     ]
    }
   ],
   "source": [
    "def find_question_with_words(word_list, df):\n",
    "    filtered_frame = df #initializes a temporary filtered frame from the given data frame\n",
    "    for word in word_list: #loops through each word in the word list and filters out the questions which contain that word. \n",
    "        filtered_frame = filtered_frame.loc[filtered_frame.Question.str.contains(word) == True]\n",
    "    return filtered_frame #only questions which contains all words in the list are returned\n",
    "\n",
    "filtered = find_question_with_words([\"King\", \"England\"], data)\n",
    "filtered.info() #checking this matches with the given number"
   ]
  },
  {
   "cell_type": "markdown",
   "metadata": {},
   "source": [
    "3. Test your original function with a few different sets of words to try to find some ways your function breaks. Edit your function so it is more robust.\n",
    "\n",
    "   For example, think about capitalization. We probably want to find questions that contain the word `\"King\"` or `\"king\"`.\n",
    "   \n",
    "   You may also want to check to make sure you don't find rows that contain substrings of your given words. For example, our function found a question that didn't contain the word `\"king\"`, however it did contain the word `\"viking\"` &mdash; it found the `\"king\"` inside `\"viking\"`. Note that this also comes with some drawbacks &mdash; you would no longer find questions that contained words like `\"England's\"`."
   ]
  },
  {
   "cell_type": "code",
   "execution_count": 368,
   "metadata": {},
   "outputs": [
    {
     "name": "stdout",
     "output_type": "stream",
     "text": [
      "<class 'pandas.core.frame.DataFrame'>\n",
      "Index: 130 entries, 4953 to 216021\n",
      "Data columns (total 7 columns):\n",
      " #   Column       Non-Null Count  Dtype  \n",
      "---  ------       --------------  -----  \n",
      " 0   Show_number  130 non-null    int64  \n",
      " 1   Air_date     130 non-null    object \n",
      " 2   Round        130 non-null    object \n",
      " 3   Category     130 non-null    object \n",
      " 4   Value        130 non-null    float64\n",
      " 5   Question     130 non-null    object \n",
      " 6   Answer       130 non-null    object \n",
      "dtypes: float64(1), int64(1), object(5)\n",
      "memory usage: 8.1+ KB\n",
      "4953                                                                                                                                                                                                                                                                                                     Both England's King George V & FDR put their stamp of approval on this \"King of Hobbies\"\n",
      "6337                                                                                                                                                                                                                                                                                       In retaliation for Viking raids, this \"Unready\" king of England attacks Norse areas of the Isle of Man\n",
      "9191                                                                                                                                                                                                                                                                                                     This king of England beat the odds to trounce the French in the 1415 Battle of Agincourt\n",
      "11710                                                                                                                                                                                                                                                                                                This Scotsman, the first Stuart king of England, was called \"The Wisest Fool in Christendom\"\n",
      "13454                                                                                                                                                                                                                                                                                                                        It's the number that followed the last king of England named William\n",
      "14912                                                                                                                                                                                                                                                                                           This country's King Louis IV was nicknamed \"Louis From Overseas\" because he was raised in England\n",
      "18076                                                                                                                                                                                                                                                                                             In 1199 this crusader king of England was mortally wounded while besieging the castle of Chalus\n",
      "19104                                                                                                                                                                                                                                                                                                                Name of 8 kings of England since 1272, it was also General Lee's middle name\n",
      "19168                                                                                                                                                                                                                                                                                                                   He was the only king of England to have \"The Great\" tacked on to his name\n",
      "21511                                                                                                                                                                                                                                                                                                                this man and his son ruled England following the execution of King Charles I\n",
      "23810                                                                                                                                                                                                                                                                                        William the Conqueror was crowned King of England in Westminster Abbey on Christmas Day in this year\n",
      "23979                                                                                                                                                                                                                                                                                              This \"unready\" king of England lost most of his country to Sven Forkbeard, the king of Denmark\n",
      "26780                                                                                                                                                                                                                                                                                                                 This king of England was killed by a Norman arrow at the Battle of Hastings\n",
      "27380                                                                                                                                                                                                                                                                                                                                       In 1066 he became the last Saxon king to rule England\n",
      "27555                                                                                                                                                                                                                                                                                                          This member of the Medici family was the mother-in-law of England's King Charles I\n",
      "28570                                                                                                                                                                                                                                                                                      The IV king of this name (following the Norman Conquest) brought the House of York to England's throne\n",
      "33174                                                                                                                                                                                                                                                                                                                                      This king of England was a leader of the Third Crusade\n",
      "33294                                                (Sarah of the Clue Crew delivers the clue from the Bayeux Cathedral in France.)  Despite taking an oath to assure another succession, Harold is crowned King of England; the tapestry indicated it was <a href=\"http://www.j-archive.com/media/2008-12-18_J_08.jpg\" target=\"_blank\">Stigant</a>, this archbishop, who performed the ceremony\n",
      "35869                                                                                                                                                                                                                                                                      Before he became king of England, George VI served in the Royal Navy & fought in the Battle of Jutland during this war\n",
      "37550                                                                                                                                                                                                                                                                                                                             They named a knot for this Duke who was briefly king of England\n",
      "41148                                                                                                                                                                                                                                                                   This French king recognized William of Orange as William II, King of England, under the terms of 1697's Treaty of Ryswick\n",
      "41357                                                                                                                                                                                                                                                                                    England's King Henry VIII had 3 wives named Catherine:  Catherine Howard, Catherine of Aragon & this one\n",
      "43122                                                                                                                                                                                                                                                                                                                                                      The father of England's King Edward VI\n",
      "47814                                                                                                                                                                                                                                                                                                                                  This steak sauce was created for King George IV of England\n",
      "49994                                                                                                                                                                                                                                                                                                      Elizabeth I's half-brother, he reigned before her as King of England from 1547 to 1553\n",
      "51115                                                                                                                                                 (<a href=\"http://www.j-archive.com/media/2000-03-02_J_22.jpg\" target=\"_blank\">Alex Trebek reads from England.</a>)  In 1214 barons fed up with King John met at the abbey whose ruins we see here; the result a year later was this charter\n",
      "51565                                                                                                                                                                                                                                                                                He wrote several anthems, including \"The King Shall Rejoice\", for the coronation of England's King George II\n",
      "52166                                                                                                                                                                                                                                                                                                                 While in England in 1760, John Hancock attended the coronation of this king\n",
      "52184     (<a href=\"http://www.j-archive.com/media/2010-07-26_DJ_10.jpg\" target=\"_blank\">Jimmy of the Clue Crew reports from in front of the Bayeux Tapestry.</a>)  The tapestry opens in 1064 with this childless king on England's throne; 11th century sources say the <a href=\"http://www.j-archive.com/media/2010-07-26_DJ_10.jpg\" target=\"_blank\">meeting</a> is about naming his successor\n",
      "54982                                                                                                                                                                                                                                                                                          When England's Queen Anne died, this German became king because he was a great grandson of James I\n",
      "56600                                                                                                                                                                                                                                                                                             This city known for its 24-hour auto race was the birthplace of England's King Henry II in 1133\n",
      "57479                                                                                                                                                                                                                                                                                                                           He was the last of the 3 men who were king of England during 1066\n",
      "57516                                                                                                                                                                                                                                                                                                                        Famous (& rather insulting) adjective for England's King Ethelred II\n",
      "58112                                                                                                                                                                                                                                                                                                                                   The only name shared by four consecutive kings of England\n",
      "58949                                                                                                                                                                                                                                                                                                       He became King of England in 1399 after forcing his cousin Richard II from the throne\n",
      "59221                                                                                                                                                                                                                                                                                                In the 1697 Treaty of Rijswijk, the French recognized this Dutch-born man as king of England\n",
      "59780                                                                                                                                                                                                                                                                                   In literature, restoration refers to the period after the return of this king to England's throne in 1660\n",
      "66520                                                                                                                                                                                                                                                                                              This king called \"the Great\" beat the Danes in 886 to keep all of England from being conquered\n",
      "69727                                                                                                                                                                                                                                                                                                                                      This first Tudor king reigned on the throne of England\n",
      "69991                                                                                                                                                                                                                                                                                                  Chronological lists of England's kings are missing 1649-1660, between 2 kings of this name\n",
      "70052                                                                                                                                                                                                                                                                                           In 1710 Handel was appointed kapellmeister to the elector of Hanover, this future king of England\n",
      "71808                                                                                                                                                                                                                                                                                                                     Number of the William who was England's \"Sailor King\" from 1830 to 1837\n",
      "72582                                                                                                                                                                                                                                                                                                 This current king of Jordan received part of his education in England at Harrow & Sandhurst\n",
      "74235                                                                                                                                                                                                                                                                                                    Barons & churchmen drew up this 1215 document to reduce the power of England's King John\n",
      "74723                                                                                                                                                     It's the rank of the character singing <a href=\"http://www.j-archive.com/media/2006-06-28_DJ_14.mp3\">here</a>  <i>\"I know the kings of England and I quote the fights historical / From Marathon to Waterloo, in order categorical\"</i>\n",
      "76814                                                                                                                                                                                                                                                                                                                   11th century England had 2 kings with this name, one a Dane & one a Saxon\n",
      "77195                                                                                                                                                                                                                                                                                         He became King of England on June 26, 1483; just over 2 years later he was killed at Bosworth Field\n",
      "78510                                                                                                                                                                                                                                                                                         Henry II, who succeeded Stephen as king of England in 1154, was the first monarch from this \"house\"\n",
      "79269                                                                                                                                                                                                                                                                           He called himself \"king of Great Britain\" after gaining England's throne in 1603--he was already king of Scotland\n",
      "79457                                                                                                                                                                                                                                                                             On Christmas Day 1066, he was crowned King of England, 72 days after defeating Harold at the Battle of Hastings\n",
      "80113                                                                                                                                                                                                                                                                                                                               England's King Charles II was known by this \"jovial\" nickname\n",
      "80794                                                                                                                                                                                                                                                                                                England's last Lancastrian king, he was imprisoned & murdered in the Tower of London in 1471\n",
      "80906                                                                                                                                                                                                                                                                                                                                                             England had its last Saxon king\n",
      "82525                                                                                                                                                                                                                                                                                                                The \"rump\" parliament wanted him to be the last king England would ever name\n",
      "84639                                                                                                                                                                                                                                                                                                           He went from second banana on \"Roseanne\" to top banana of England in \"King Ralph\"\n",
      "86412                                                                                                                                                                                                                                                                                                        This country's King Olaf V was born in England & was the grandson of King Edward VII\n",
      "89710                                                                                                                                                                                                                                                                                           This 11th Century King of England also ruled Denmark & Norway during the latter part of his reign\n",
      "90084                                                                                                                                                                                                                                                                                                                                  He was \"the Confessor\" king of England in the 11th century\n",
      "94425                                                                                                                                                                                                                                                                                                                                       From 1714 to 1830 every king of England had this name\n",
      "95019                                                                                                                                                                                                                                                                                           Regent for his predecessor from 1811 to 1820, he was king of England on his own from 1820 to 1830\n",
      "101374                                                                                                                                                                                                                                                                                                              \"Carolus Stuardus\" by Andreas Gryphius is about this executed king of England\n",
      "103704                                                                                                                                                                                                                                                                                                                                    This king of England was the grandfather of Elizabeth I\n",
      "110508                                                                                                                                                                                                                                                                                                   This Romantic began his \"England in 1819\", \"An old, mad, blind, despised and dying king\"\n",
      "111926                                                                                                                                                                                                                                                                                  It begins \"John, by the grace of God, King of England, Lord of Ireland, Duke of Normandy & Aquitaine....\"\n",
      "115727                                                                                                                                                                                                                                                                                                                       In 1191, Berengaria married this king of England in Limassol, Cyprus\n",
      "118809                                                                                                                                                                                                                                                                                                                           In French this King of England is called Guillaume le Conquerant\n",
      "121469                                                                                                                                                                                                                                                                                                              In this Twain tale, Tom Canty is a dead ringer for the future king of England\n",
      "123299                                                                                                                                                                                                                                                                                                    If you want to be crowned King of England, this rock has to be in your coronation chair\n",
      "123671                                                                                                                                                                                                                                                                                                                                                             King Henry VII of England dies\n",
      "125257                                                                                                                                                                                                                                                                                                        The first Hanoverian king born in England, he ruled for 60 years, from 1760 to 1820\n",
      "125822                                                                                                                                                                                                                                                                                                                             Famous nickname of the eldest son of England's King Edward III\n",
      "125999                                                                                                                                                                                                                                                                                   \"More butcher than king in England\" is seen as this leader born in 1599, 33 years after Nostradamus died\n",
      "127484                                                                                                                                                                                                                                                                                               Ethelred the Unready managed to lose most of England to King Sweyn Forkbeard of this country\n",
      "127758                                                                                                                                                                                                                                                                                                                 This state was named for the King of England who reigned from 1727 to 1760\n",
      "129106                                                                                                                                                                                                                                                                                             King Edward I of England, who fought William Wallace, had this nickname relating to his height\n",
      "130208                                                                                                                                                                                                                                                                                                                   This \"Sun King\" sniffed, \"England is a little garden full of sour weeds\"\n",
      "137753                                                                                                                                                                                                                                                                                                                           1999: \"Goodnight you princes of Maine, you kings of New England\"\n",
      "137818                                                                                                                                                                                                                                                                                                                       The last King William to rule England had this number after his name\n",
      "139253                                                                                                                                                                                                                                                                                        1189,1377 &1483 are the 3 years the only 3 kings of England with this name each ascended the throne\n",
      "140080                                                                                                                                                                                                                                                                                                     In 1191 this \"Lion-Hearted\" king of England captured Cyprus & Acre during the Crusades\n",
      "140941                                                                                                                                                                                                                                                                          Dutch-born Protestant Prince William of Orange became king of England after this Catholic king was deposed & fled\n",
      "143216                                                                                                                                                                                                                                                                                              Anglo-Saxon legend says his third son Japheth is an ancestor of the kings of Wessex & England\n",
      "143434                                                                                                                                                                                                                                                                                               This Flemish artist painted a unique triple portrait of England's King Charles I around 1637\n",
      "148050                                                                                                                                                                                                                                                                                                 In the late 800s, this king of Wessex prevented the Vikings from conquering all of England\n",
      "148383                                                                                                                                                                                                                                                                     Ending an 800-year-old monarchy, in October this country became a republic & its last king, Manuel II, fled to England\n",
      "148910                                                                                                                                                                                                                                                                                 On his way back from failing to take Jerusalem in 1192, this king of England was captured & later ransomed\n",
      "150622                                                                                                                                                                                                                                                                                                                  The only king of England named Stephen was the grandson of this conqueror\n",
      "150640                                                                                                                                                                                                                                                                                                                                                  England had this many kings named Richard\n",
      "150880                                                                                                                                                                                                                                                                                                                      During Stanley Baldwin's term as P.M., this King of England abdicated\n",
      "151335                                                                                                                                                                                                                                                                                               2000 saw a fight in England over running the lottery, with this Virgin king at the forefeont\n",
      "151746                                                                                                                                                                                                                                                                                                         Colchester, England was named for this legendary Celtic king immortalized in rhyme\n",
      "153110                                                                                                                                                                                                                                                                                           At the beginning of \"A Tale of Two Cities\", these 2 kings sit on the thrones of England & France\n",
      "158120                                                                                                                                                                                                                                                                              This Dutch-born English king introduced gin to England as the \"pouring spirit\" in the palace at Hampton Court\n",
      "159374                                                                                                                                                                                                                                                                                                                    A translation of the Bible is named for this king of England & Scotland\n",
      "159378                                                                                                                                                                                                                                                                            This king divorced the Church of England from the Catholic Church so that he could divorce the first of 6 wives\n",
      "162515                                                                                                                                                                                                                                                                                     The Glorious Revolution of 1688 brought this Dutchman to power as king of England, Scotland, & Ireland\n",
      "162560                                                                                                                                                                                                                                                                                            This Shakespeare title guy, the last Yorkist king of England, was beloved by the people of York\n",
      "165110                                                                                                                                                                                                                                                                                       The 1st commoner to rule England, he became lord protector following the overthrow of King Charles I\n",
      "165197                                                                                                                                                                                                                                                                                      The \"Angel of Hadley\" is said to have saved a New England town during the war with this Indian \"King\"\n",
      "167337                                                                                                                                                                                                                                                                                                                             The last Anglo-Saxon king of England was killed in this battle\n",
      "170007                                                                                                                                                                                                                                                                                               In the 1697 Treaty of Rijswijk, the French recognized this Dutch-born man as King of England\n",
      "170222                                                                                                                                                                                                                                                                                                                         A breed of spaniel is named for England's second king of this name\n",
      "174055                                                                                                                                                                                                                                                                                                                           This conqueror was crowned King of England on Christmas Day 1066\n",
      "175259                                                                                                                                                                                                                                                                                                                                         His short reign as King of England fell in in 1936\n",
      "178590                                                                                                                                                                                                                                                                                                   He succeeded Henry II as king of England in 1189 & was himself succeeded by John in 1199\n",
      "178921                                                                                                                                                                                                                                                                                                                               Richard was crowned king of England at this place of worship\n",
      "181798                                                                                                                                                                                                                                                                                                                                                         1066: He's crowned king of England\n",
      "183462                                                                                                                                                                                                                                                                                           A capital in the West Indies is named for this family name of William of Orange, King of England\n",
      "186239                                                                                                                                                                                                                                                                          He was King of England from 1189 to 1199 but spent only 6 months there; the rest of the time, he was off fighting\n",
      "187651                                                                                                                                                                                                                                                                                                    This Bahamian capital took its name from the family name of King William III of England\n",
      "188559                                                                                                                                                                                                                                                                                                     This style influenced by the Romans is named for England's 4 kings between 1714 & 1830\n",
      "189674                                                                                                                                                                                                                                                                                                                                   In January 1533 she secretly married the king of England\n",
      "190102                                                                                                                                                                                                                                                                                                              The man who became king of England in 1066 was succeeded by this king in 1087\n",
      "191531                                                                                                                                                                                                                                                                On Jan. 28, 1547, after a physical & mental decline, this king of England was (surprisingly) survived by his wife Catherine\n",
      "191579                                                                                                                                                                                                                                                                                                            England's King Harold II lost the all-important Battle of Hastings in this year\n",
      "191885                                                                                                                                                                                                                                                                                                                                                          1 of the first 5 kings of England\n",
      "191969                                                                                                                                                                                                                                                                                                     On January 6, 1066, one day after Edward the Confessor died, he became king of England\n",
      "192265                                   (<a href=\"http://www.j-archive.com/media/2012-01-17_DJ_25.jpg\" target=\"_blank\">Sarah of the Clue Crew stands in front of the Royal Palace in Oslo, Norway.</a>) King Harald V lives here, in Norway's Royal Palace. He and his second cousin, England's Queen Elizabeth, are both great-grandchildren of this British king, who ruled from 1901 to 1910.\n",
      "192966                                                                                                                                                                                                                                                                                                                                                         England's King _____ _____ R. Luce\n",
      "194516                                                                                                                                                                                                                                                                                           The \"Monty Python\" member who played King Arthur, he ended his grail quest in Maidstone, England\n",
      "195099                                                                                                                                                                                                                                                                                            In 1714 the Prince of Hanover, who spoke little English, became king of England under this name\n",
      "195105                                                                                                                                                                                                                                                                                                                                         In 1603 he became the first Stuart king of England\n",
      "196287                                                                                                                                                                                                                                                                                                                               England's Richard III was the last king of this ruling house\n",
      "200369                                                                                                                                                                                                                                                                            8th C. King Offa built a 170-mile north-south dike that still partly marks the border of England & this country\n",
      "200381                                                                                                                                                                                                                                                                                      This monarch on whom the Magna Carta was forced has been called \"the worst king ever to rule England\"\n",
      "201168                                                                                                                                                                                                                                                                                                                   Popular Saint-Exupery character waiting around to become king of England\n",
      "204778                                                                                                                                                                                                                                                                                                                  This southern colony was named for a king of England, the II of that name\n",
      "208742                                                                                                                                                                                                                                                                                                       Dutch-born king who ruled England jointly with Mary II & is a tasty New Zealand fish\n",
      "213870                                                                                                                                                                                                                                                                                                 In 1781 William Herschel discovered Uranus & initially named it after this king of England\n",
      "216021                                                                                                                                                                                                                                                                                           His nickname was \"Bertie\", but he used this name & number when he became king of England in 1901\n",
      "Name: Question, dtype: object\n"
     ]
    }
   ],
   "source": [
    "def find_question_with_words(word_list, df):\n",
    "    filtered_frame = df #initializes a temporary filtered frame from the given data frame\n",
    "    for word in word_list: #loops through each word in the word list and filters out the questions which contain that word. \n",
    "        # filtered_frame = filtered_frame.loc[(filtered_frame.Question.str.contains(fr'\\b\\W?{word}s?\\W?\\b', case = False, regex = True) == True) | (filtered_frame.Question.str.contains(fr'\\b\\W?{word}\\W?s?\\b', case = False, regex = True) == True) | (filtered_frame.Question.str.contains(fr'\\s+\\W?{word}\\b', case = False, regex = True) == True)] #1\n",
    "        filtered_frame = filtered_frame.loc[filtered_frame.Question.str.contains(fr'\\b\\W?{word}\\W?s?\\b', case = False, regex = True) == True]\n",
    "    return filtered_frame #only questions which contains all words in the list are returned\n",
    "\n",
    "# the three regex expression intend to serve 3 purposes\n",
    "# the first regex expression tries to capture when sentences start with the word as they would not contain whitespace before hand\n",
    "# the side effect of this first expression is that it can incorrectly pick up words containing the word, like thanking, unsure how to avoid.\n",
    "# the 2nd expression intends to pick up the words themselves inside a sentence, allowing for punctuation to preceed or proceed the word\n",
    "# the 3rd expression intends to pick up when the words end the sentence, this has the unintended consequence of picking up words like kinging\n",
    "# where the word is a substring in another word. Unsure how to avoid, or force the last letter of the word to be last letter of the searched string.\n",
    "\n",
    "#2 using \\b imporved the implementation of the boundry checks which solved the issue of including \"viking\" and \"thanking\"\n",
    "\n",
    "filtered = find_question_with_words([\"King\", \"England\"], data)\n",
    "filtered.info() #shows 130 matches for questions which contain the word King and England in any case or plural\n",
    "print(filtered.Question)\n",
    "#the filter is struggling to ignore words which contain the word as a substring such as viking and thanking. (now solved)"
   ]
  },
  {
   "cell_type": "markdown",
   "metadata": {},
   "source": [
    "4. We may want to eventually compute aggregate statistics, like `.mean()` on the `\" Value\"` column. But right now, the values in that column are strings. Convert the`\" Value\"` column to floats. If you'd like to, you can create a new column with float values.\n",
    "\n",
    "   While most of the values in the `\" Value\"` column represent a dollar amount as a string, note that some do not &mdash; these values will need to be handled differently!\n",
    "\n",
    "   Now that you can filter the dataset of question, use your new column that contains the float values of each question to find the \"difficulty\" of certain topics. For example, what is the average value of questions that contain the word `\"King\"`?\n",
    "   \n",
    "   Make sure to use the dataset that contains the float values as the dataset you use in your filtering function."
   ]
  },
  {
   "cell_type": "code",
   "execution_count": 320,
   "metadata": {},
   "outputs": [
    {
     "name": "stdout",
     "output_type": "stream",
     "text": [
      "600.0\n",
      "771.8599463504165\n"
     ]
    }
   ],
   "source": [
    "data.Value = data.Value.apply(lambda x: x.replace(\"$\", \"\") if type(x) == str else float(x)) #replace dollar signs\n",
    "data.Value = data.Value.apply(lambda x: x.replace(\",\", \"\") if type(x) == str else float(x)) #replace commas\n",
    "data.Value = data.Value.apply(lambda x: 0 if x == \"no value\" else float(x)) #convert values to floats and replace \"no value\" columns with 0\n",
    "# print(data.info()) #confirming data change\n",
    "\n",
    "king_filtered = find_question_with_words([\"King\"], data)\n",
    "king_median_value = king_filtered.Value.median()\n",
    "print(king_median_value) #the median value of the questions containing king is around 600\n",
    "king_mean_value = king_filtered.Value.mean()\n",
    "print(king_mean_value) # the mean value of questions containing king is around 771"
   ]
  },
  {
   "cell_type": "markdown",
   "metadata": {},
   "source": [
    "5. Write a function that returns the count of unique answers to all of the questions in a dataset. For example, after filtering the entire dataset to only questions containing the word `\"King\"`, we could then find all of the unique answers to those questions. The answer \"Henry VIII\" appeared 55 times and was the most common answer."
   ]
  },
  {
   "cell_type": "code",
   "execution_count": 322,
   "metadata": {},
   "outputs": [
    {
     "data": {
      "text/html": [
       "<div>\n",
       "<style scoped>\n",
       "    .dataframe tbody tr th:only-of-type {\n",
       "        vertical-align: middle;\n",
       "    }\n",
       "\n",
       "    .dataframe tbody tr th {\n",
       "        vertical-align: top;\n",
       "    }\n",
       "\n",
       "    .dataframe thead th {\n",
       "        text-align: right;\n",
       "    }\n",
       "</style>\n",
       "<table border=\"1\" class=\"dataframe\">\n",
       "  <thead>\n",
       "    <tr style=\"text-align: right;\">\n",
       "      <th></th>\n",
       "      <th>Answer</th>\n",
       "      <th>count</th>\n",
       "    </tr>\n",
       "  </thead>\n",
       "  <tbody>\n",
       "    <tr>\n",
       "      <th>1483</th>\n",
       "      <td>Henry VIII</td>\n",
       "      <td>54</td>\n",
       "    </tr>\n",
       "    <tr>\n",
       "      <th>2837</th>\n",
       "      <td>Solomon</td>\n",
       "      <td>35</td>\n",
       "    </tr>\n",
       "    <tr>\n",
       "      <th>1987</th>\n",
       "      <td>Louis XIV</td>\n",
       "      <td>31</td>\n",
       "    </tr>\n",
       "    <tr>\n",
       "      <th>2607</th>\n",
       "      <td>Richard III</td>\n",
       "      <td>31</td>\n",
       "    </tr>\n",
       "    <tr>\n",
       "      <th>977</th>\n",
       "      <td>David</td>\n",
       "      <td>30</td>\n",
       "    </tr>\n",
       "  </tbody>\n",
       "</table>\n",
       "</div>"
      ],
      "text/plain": [
       "           Answer  count\n",
       "1483   Henry VIII     54\n",
       "2837      Solomon     35\n",
       "1987    Louis XIV     31\n",
       "2607  Richard III     31\n",
       "977         David     30"
      ]
     },
     "execution_count": 322,
     "metadata": {},
     "output_type": "execute_result"
    }
   ],
   "source": [
    "def n_unique_answers(df):\n",
    "    df.Answer.apply(lambda x: x.lower().strip())\n",
    "    num_unique = df.groupby(\"Answer\").Question.count().reset_index(name = \"count\").sort_values([\"count\"], ascending = False)\n",
    "    return num_unique\n",
    "\n",
    "henry_vii = n_unique_answers(king_filtered) #shows 54 for henry viii as there is an additional question in solution code which includes a question\n",
    "#which only contains king as part of buckingham, however my filter does not include this.\n",
    "henry_vii.head()"
   ]
  },
  {
   "cell_type": "markdown",
   "metadata": {},
   "source": [
    "6. Explore from here! This is an incredibly rich dataset, and there are so many interesting things to discover. There are a few columns that we haven't even started looking at yet. Here are some ideas on ways to continue working with this data:\n",
    "\n",
    " * Investigate the ways in which questions change over time by filtering by the date. How many questions from the 90s use the word `\"Computer\"` compared to questions from the 2000s?\n",
    " * Is there a connection between the round and the category? Are you more likely to find certain categories, like `\"Literature\"` in Single Jeopardy or Double Jeopardy?\n",
    " * Build a system to quiz yourself. Grab random questions, and use the <a href=\"https://docs.python.org/3/library/functions.html#input\">input</a> function to get a response from the user. Check to see if that response was right or wrong."
   ]
  },
  {
   "cell_type": "code",
   "execution_count": 352,
   "metadata": {},
   "outputs": [
    {
     "name": "stdout",
     "output_type": "stream",
     "text": [
      "This name properly refers to only the great hour bell at the northern end of London's Houses of Parliament\n"
     ]
    },
    {
     "name": "stdin",
     "output_type": "stream",
     "text": [
      "Please provide an answer:  big ben\n"
     ]
    },
    {
     "name": "stdout",
     "output_type": "stream",
     "text": [
      "That is correct! The answer was Big Ben\n"
     ]
    }
   ],
   "source": [
    "import random\n",
    "\n",
    "data.reset_index()\n",
    "def select_random_question(data):\n",
    "    selection = data.iloc[random.randint(0,data.Question.count())] #selects a random question using iloc and random number generated from 0 to the number of questions in the dataframe\n",
    "    question = selection.Question #stores the question in a variable\n",
    "    answer = selection.Answer #stores the answer in a variable\n",
    "    print(question) #prints the question\n",
    "    player_answer = input(\"Please provide an answer: \") #input for the player to provide an answer\n",
    "    if player_answer.lower().strip() in answer.lower().strip(): #checks if the answer matches or partially matches the correct one\n",
    "        print(f\"That is correct! The answer was {answer}\") #statement if answer is correct\n",
    "    else:\n",
    "        print(f\"That is incorrect :(, the correct answer is {answer}\") #statement if answer is incorrect\n",
    "    \n",
    "\n",
    "select_random_question(data)"
   ]
  },
  {
   "cell_type": "markdown",
   "metadata": {},
   "source": [
    "## Solution"
   ]
  },
  {
   "cell_type": "markdown",
   "metadata": {},
   "source": [
    "7. Compare your program to our <a href=\"https://content.codecademy.com/PRO/independent-practice-projects/jeopardy/jeopardy_solution.zip\">sample solution code</a> - remember, that your program might look different from ours (and probably will) and that's okay!"
   ]
  },
  {
   "cell_type": "markdown",
   "metadata": {},
   "source": [
    "8. Great work! Visit <a href=\"https://discuss.codecademy.com/t/this-is-jeopardy-challenge-project-python-pandas/462365\">our forums</a> to compare your project to our sample solution code. You can also learn how to host your own solution on GitHub so you can share it with other learners! Your solution might look different from ours, and that's okay! There are multiple ways to solve these projects, and you'll learn more by seeing others' code."
   ]
  },
  {
   "cell_type": "code",
   "execution_count": null,
   "metadata": {},
   "outputs": [],
   "source": []
  }
 ],
 "metadata": {
  "kernelspec": {
   "display_name": "Python [conda env:base] *",
   "language": "python",
   "name": "conda-base-py"
  },
  "language_info": {
   "codemirror_mode": {
    "name": "ipython",
    "version": 3
   },
   "file_extension": ".py",
   "mimetype": "text/x-python",
   "name": "python",
   "nbconvert_exporter": "python",
   "pygments_lexer": "ipython3",
   "version": "3.12.7"
  }
 },
 "nbformat": 4,
 "nbformat_minor": 4
}
